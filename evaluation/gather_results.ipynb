{
 "cells": [
  {
   "cell_type": "code",
   "execution_count": 1,
   "metadata": {},
   "outputs": [],
   "source": [
    "import json\n",
    "import os\n",
    "import numpy as np"
   ]
  },
  {
   "cell_type": "code",
   "execution_count": 2,
   "metadata": {},
   "outputs": [],
   "source": [
    "def get_summarized_result(data):\n",
    "    data[\"result\"] = np.round(np.mean([res[\"metric\"] for res in data[\"results\"]]), decimals=4)\n",
    "    data[\"total_input_tokens\"] = sum([res[\"prompt_tokens\"] for res in data[\"results\"]])\n",
    "    data[\"total_output_tokens\"] = sum([res[\"completion_tokens\"] for res in data[\"results\"]])\n",
    "    if \"test_hash\" in data:\n",
    "        del data[\"test_hash\"]\n",
    "        del data[\"seed\"]\n",
    "    del data[\"result_dir\"]\n",
    "    del data[\"results\"]\n",
    "    return data\n",
    "\n",
    "def gather_results(results_dir):\n",
    "    results = []\n",
    "    for file in os.walk(results_dir):\n",
    "        for filename in file[2]:\n",
    "            # Comment this if you want to include direct results\n",
    "            if \"direct\" in filename:\n",
    "                continue\n",
    "            with open(os.path.join(file[0], filename), \"r\") as f:\n",
    "                data = json.load(f)\n",
    "                results.append(get_summarized_result(data))\n",
    "                results[-1][\"result_name\"] = os.path.join(results_dir, file[0], filename)\n",
    "    return results"
   ]
  },
  {
   "cell_type": "code",
   "execution_count": 6,
   "metadata": {},
   "outputs": [],
   "source": [
    "model_dirs = [\n",
    "    \"results_dir/\"\n",
    "]"
   ]
  },
  {
   "cell_type": "code",
   "execution_count": null,
   "metadata": {},
   "outputs": [],
   "source": [
    "all_results = []\n",
    "for model_dir in model_dirs:\n",
    "    model_results = gather_results(model_dir)\n",
    "    all_results += model_results\n",
    "    print(f\"Model {model_dir} done\", len(model_results))\n",
    "    print(len(all_results))"
   ]
  },
  {
   "cell_type": "code",
   "execution_count": null,
   "metadata": {},
   "outputs": [],
   "source": [
    "import csv\n",
    "\n",
    "# Function to remove newlines from dictionary values\n",
    "def clean_dict(d):\n",
    "    return {k: v.replace('\\n', ' ') if isinstance(v, str) else v for k, v in d.items()}\n",
    "\n",
    "# Clean the results\n",
    "cleaned_results = [clean_dict(result) for result in all_results]\n",
    "\n",
    "# Write to CSV\n",
    "keys = cleaned_results[0].keys()\n",
    "with open('gathered_results.csv', 'w', newline='') as output_file:\n",
    "    dict_writer = csv.DictWriter(output_file, keys)\n",
    "    dict_writer.writeheader()\n",
    "    dict_writer.writerows(cleaned_results)"
   ]
  }
 ],
 "metadata": {
  "kernelspec": {
   "display_name": "NIAH-local-env",
   "language": "python",
   "name": "python3"
  },
  "language_info": {
   "codemirror_mode": {
    "name": "ipython",
    "version": 3
   },
   "file_extension": ".py",
   "mimetype": "text/x-python",
   "name": "python",
   "nbconvert_exporter": "python",
   "pygments_lexer": "ipython3",
   "version": "3.11.10"
  }
 },
 "nbformat": 4,
 "nbformat_minor": 2
}
