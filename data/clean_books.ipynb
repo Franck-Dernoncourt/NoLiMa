{
 "cells": [
  {
   "cell_type": "code",
   "execution_count": 7,
   "metadata": {},
   "outputs": [],
   "source": [
    "import os, re"
   ]
  },
  {
   "cell_type": "code",
   "execution_count": 11,
   "metadata": {},
   "outputs": [],
   "source": [
    "booknames = os.listdir(\"books\")\n",
    "\n",
    "for bookname in booknames:\n",
    "    if not bookname.endswith(\".txt\"):\n",
    "        continue\n",
    "    with open(\"books/\" + bookname, \"r\") as f:\n",
    "        text = f.read()\n",
    "\n",
    "    # Remove extra spaces\n",
    "    text = re.sub(r\" +\", \" \", text)\n",
    "\n",
    "    # Remove leading and trailing spaces in each line\n",
    "    text = \"\\n\".join([line.strip() for line in text.split(\"\\n\")])\n",
    "    \n",
    "    # Remove two or more newlines\n",
    "    text = re.sub(r\"\\n{2,}\", \"\\n\", text)\n",
    "\n",
    "    # Remove lines that are too short (less than 3 characters)\n",
    "    text = \"\\n\".join([line for line in text.split(\"\\n\") if len(line) > 3])\n",
    "\n",
    "    # Add ####### to beginning of lines that are too long for manual inspection\n",
    "    text = \"\\n\".join([line if len(line) < 1000 else \"#######\" + line for line in text.split(\"\\n\")])\n",
    "\n",
    "    # Add a whitespace after each line\n",
    "    text = text.replace(\"\\n\", \" \\n\")\n",
    "\n",
    "    with open(\"books_cleaned/auto/\" + bookname, \"w\") as f:\n",
    "        f.write(text)"
   ]
  },
  {
   "cell_type": "code",
   "execution_count": null,
   "metadata": {},
   "outputs": [],
   "source": []
  }
 ],
 "metadata": {
  "kernelspec": {
   "display_name": "Python 3",
   "language": "python",
   "name": "python3"
  },
  "language_info": {
   "codemirror_mode": {
    "name": "ipython",
    "version": 3
   },
   "file_extension": ".py",
   "mimetype": "text/x-python",
   "name": "python",
   "nbconvert_exporter": "python",
   "pygments_lexer": "ipython3",
   "version": "3.11.10"
  }
 },
 "nbformat": 4,
 "nbformat_minor": 2
}
